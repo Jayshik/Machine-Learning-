{
 "cells": [
  {
   "cell_type": "markdown",
   "metadata": {},
   "source": [
    "# ML Course 1 - Practice (subject)"
   ]
  },
  {
   "cell_type": "markdown",
   "metadata": {},
   "source": [
    "## Import libraries"
   ]
  },
  {
   "cell_type": "markdown",
   "metadata": {},
   "source": [
    "Better to do it before any further work."
   ]
  },
  {
   "cell_type": "code",
   "execution_count": 2,
   "metadata": {},
   "outputs": [],
   "source": [
    "import numpy as np\n",
    "import matplotlib.pyplot as plt\n",
    "import pandas as pd\n",
    "import sklearn "
   ]
  },
  {
   "cell_type": "markdown",
   "metadata": {},
   "source": [
    "## Original data set"
   ]
  },
  {
   "cell_type": "markdown",
   "metadata": {},
   "source": [
    "<center> <img src=\"titanic.png\" width=400/> </center>\n"
   ]
  },
  {
   "cell_type": "markdown",
   "metadata": {},
   "source": [
    "*On April 15, 1912, during her maiden voyage, the widely considered “unsinkable” RMS Titanic sank after colliding with an iceberg. Unfortunately, there weren’t enough lifeboats for everyone onboard, resulting in the death of 1502 out of 2224 passengers and crew.*"
   ]
  },
  {
   "cell_type": "markdown",
   "metadata": {},
   "source": [
    "You can have a quick view on the original data set, but keep in mind that you will not have to work on this exact version today."
   ]
  },
  {
   "cell_type": "code",
   "execution_count": 5,
   "metadata": {},
   "outputs": [],
   "source": [
    "dataset = pd.read_csv('Titanic.csv')"
   ]
  },
  {
   "cell_type": "code",
   "execution_count": 9,
   "metadata": {},
   "outputs": [
    {
     "data": {
      "text/html": [
       "<div>\n",
       "<style scoped>\n",
       "    .dataframe tbody tr th:only-of-type {\n",
       "        vertical-align: middle;\n",
       "    }\n",
       "\n",
       "    .dataframe tbody tr th {\n",
       "        vertical-align: top;\n",
       "    }\n",
       "\n",
       "    .dataframe thead th {\n",
       "        text-align: right;\n",
       "    }\n",
       "</style>\n",
       "<table border=\"1\" class=\"dataframe\">\n",
       "  <thead>\n",
       "    <tr style=\"text-align: right;\">\n",
       "      <th></th>\n",
       "      <th>PassengerId</th>\n",
       "      <th>Survived</th>\n",
       "      <th>Pclass</th>\n",
       "      <th>Name</th>\n",
       "      <th>Sex</th>\n",
       "      <th>Age</th>\n",
       "      <th>SibSp</th>\n",
       "      <th>Parch</th>\n",
       "      <th>Ticket</th>\n",
       "      <th>Fare</th>\n",
       "      <th>Cabin</th>\n",
       "      <th>Embarked</th>\n",
       "      <th>Title</th>\n",
       "      <th>Surname</th>\n",
       "      <th>Fsize</th>\n",
       "      <th>Family</th>\n",
       "      <th>FsizeD</th>\n",
       "      <th>Deck</th>\n",
       "      <th>Child</th>\n",
       "      <th>Mother</th>\n",
       "    </tr>\n",
       "  </thead>\n",
       "  <tbody>\n",
       "    <tr>\n",
       "      <th>0</th>\n",
       "      <td>1</td>\n",
       "      <td>0</td>\n",
       "      <td>3</td>\n",
       "      <td>Braund, Mr. Owen Harris</td>\n",
       "      <td>male</td>\n",
       "      <td>22.0</td>\n",
       "      <td>1</td>\n",
       "      <td>0</td>\n",
       "      <td>A/5 21171</td>\n",
       "      <td>7.2500</td>\n",
       "      <td>NaN</td>\n",
       "      <td>S</td>\n",
       "      <td>Mr</td>\n",
       "      <td>Braund</td>\n",
       "      <td>2</td>\n",
       "      <td>Braund_2</td>\n",
       "      <td>small</td>\n",
       "      <td>NaN</td>\n",
       "      <td>Adult</td>\n",
       "      <td>Not Mother</td>\n",
       "    </tr>\n",
       "    <tr>\n",
       "      <th>1</th>\n",
       "      <td>2</td>\n",
       "      <td>1</td>\n",
       "      <td>1</td>\n",
       "      <td>Cumings, Mrs. John Bradley (Florence Briggs Th...</td>\n",
       "      <td>female</td>\n",
       "      <td>38.0</td>\n",
       "      <td>1</td>\n",
       "      <td>0</td>\n",
       "      <td>PC 17599</td>\n",
       "      <td>71.2833</td>\n",
       "      <td>C85</td>\n",
       "      <td>C</td>\n",
       "      <td>Mrs</td>\n",
       "      <td>Cumings</td>\n",
       "      <td>2</td>\n",
       "      <td>Cumings_2</td>\n",
       "      <td>small</td>\n",
       "      <td>C</td>\n",
       "      <td>Adult</td>\n",
       "      <td>Not Mother</td>\n",
       "    </tr>\n",
       "    <tr>\n",
       "      <th>2</th>\n",
       "      <td>3</td>\n",
       "      <td>1</td>\n",
       "      <td>3</td>\n",
       "      <td>Heikkinen, Miss. Laina</td>\n",
       "      <td>female</td>\n",
       "      <td>26.0</td>\n",
       "      <td>0</td>\n",
       "      <td>0</td>\n",
       "      <td>STON/O2. 3101282</td>\n",
       "      <td>7.9250</td>\n",
       "      <td>NaN</td>\n",
       "      <td>S</td>\n",
       "      <td>Miss</td>\n",
       "      <td>Heikkinen</td>\n",
       "      <td>1</td>\n",
       "      <td>Heikkinen_1</td>\n",
       "      <td>singleton</td>\n",
       "      <td>NaN</td>\n",
       "      <td>Adult</td>\n",
       "      <td>Not Mother</td>\n",
       "    </tr>\n",
       "    <tr>\n",
       "      <th>3</th>\n",
       "      <td>4</td>\n",
       "      <td>1</td>\n",
       "      <td>1</td>\n",
       "      <td>Futrelle, Mrs. Jacques Heath (Lily May Peel)</td>\n",
       "      <td>female</td>\n",
       "      <td>35.0</td>\n",
       "      <td>1</td>\n",
       "      <td>0</td>\n",
       "      <td>113803</td>\n",
       "      <td>53.1000</td>\n",
       "      <td>C123</td>\n",
       "      <td>S</td>\n",
       "      <td>Mrs</td>\n",
       "      <td>Futrelle</td>\n",
       "      <td>2</td>\n",
       "      <td>Futrelle_2</td>\n",
       "      <td>small</td>\n",
       "      <td>C</td>\n",
       "      <td>Adult</td>\n",
       "      <td>Not Mother</td>\n",
       "    </tr>\n",
       "    <tr>\n",
       "      <th>4</th>\n",
       "      <td>5</td>\n",
       "      <td>0</td>\n",
       "      <td>3</td>\n",
       "      <td>Allen, Mr. William Henry</td>\n",
       "      <td>male</td>\n",
       "      <td>35.0</td>\n",
       "      <td>0</td>\n",
       "      <td>0</td>\n",
       "      <td>373450</td>\n",
       "      <td>8.0500</td>\n",
       "      <td>NaN</td>\n",
       "      <td>S</td>\n",
       "      <td>Mr</td>\n",
       "      <td>Allen</td>\n",
       "      <td>1</td>\n",
       "      <td>Allen_1</td>\n",
       "      <td>singleton</td>\n",
       "      <td>NaN</td>\n",
       "      <td>Adult</td>\n",
       "      <td>Not Mother</td>\n",
       "    </tr>\n",
       "  </tbody>\n",
       "</table>\n",
       "</div>"
      ],
      "text/plain": [
       "   PassengerId  Survived  Pclass  \\\n",
       "0            1         0       3   \n",
       "1            2         1       1   \n",
       "2            3         1       3   \n",
       "3            4         1       1   \n",
       "4            5         0       3   \n",
       "\n",
       "                                                Name     Sex   Age  SibSp  \\\n",
       "0                            Braund, Mr. Owen Harris    male  22.0      1   \n",
       "1  Cumings, Mrs. John Bradley (Florence Briggs Th...  female  38.0      1   \n",
       "2                             Heikkinen, Miss. Laina  female  26.0      0   \n",
       "3       Futrelle, Mrs. Jacques Heath (Lily May Peel)  female  35.0      1   \n",
       "4                           Allen, Mr. William Henry    male  35.0      0   \n",
       "\n",
       "   Parch            Ticket     Fare Cabin Embarked Title    Surname  Fsize  \\\n",
       "0      0         A/5 21171   7.2500   NaN        S    Mr     Braund      2   \n",
       "1      0          PC 17599  71.2833   C85        C   Mrs    Cumings      2   \n",
       "2      0  STON/O2. 3101282   7.9250   NaN        S  Miss  Heikkinen      1   \n",
       "3      0            113803  53.1000  C123        S   Mrs   Futrelle      2   \n",
       "4      0            373450   8.0500   NaN        S    Mr      Allen      1   \n",
       "\n",
       "        Family     FsizeD Deck  Child      Mother  \n",
       "0     Braund_2      small  NaN  Adult  Not Mother  \n",
       "1    Cumings_2      small    C  Adult  Not Mother  \n",
       "2  Heikkinen_1  singleton  NaN  Adult  Not Mother  \n",
       "3   Futrelle_2      small    C  Adult  Not Mother  \n",
       "4      Allen_1  singleton  NaN  Adult  Not Mother  "
      ]
     },
     "execution_count": 9,
     "metadata": {},
     "output_type": "execute_result"
    }
   ],
   "source": [
    "dataset.head()"
   ]
  },
  {
   "cell_type": "markdown",
   "metadata": {},
   "source": [
    "## Simplified data set"
   ]
  },
  {
   "cell_type": "markdown",
   "metadata": {},
   "source": [
    "To start will a more simple date set, we provide a simplified version of the Titanic data set with only the following variables:"
   ]
  },
  {
   "cell_type": "markdown",
   "metadata": {},
   "source": [
    "| Variable | Definition | Key |\n",
    "|---|---|---|\n",
    "| Embarked | Port of Embarkation | 0 = Cherbourg, 1 = Queenstown, 2 = Southampton |\n",
    "| Pclass | Ticket class | 1 = 1st, 2 = 2nd, 3 = 3rd |\n",
    "| Fare | Passenger fare |  |\n",
    "| Sex | Sex | 0 = male, 1 = female |\n",
    "| Age | Age in years |  |\n",
    "| Survived | Survival | 0 = No, 1 = Yes |"
   ]
  },
  {
   "cell_type": "code",
   "execution_count": 6,
   "metadata": {},
   "outputs": [],
   "source": [
    "dataset = pd.read_csv('titanic_simplified.csv')"
   ]
  },
  {
   "cell_type": "code",
   "execution_count": 7,
   "metadata": {},
   "outputs": [
    {
     "data": {
      "text/html": [
       "<div>\n",
       "<style scoped>\n",
       "    .dataframe tbody tr th:only-of-type {\n",
       "        vertical-align: middle;\n",
       "    }\n",
       "\n",
       "    .dataframe tbody tr th {\n",
       "        vertical-align: top;\n",
       "    }\n",
       "\n",
       "    .dataframe thead th {\n",
       "        text-align: right;\n",
       "    }\n",
       "</style>\n",
       "<table border=\"1\" class=\"dataframe\">\n",
       "  <thead>\n",
       "    <tr style=\"text-align: right;\">\n",
       "      <th></th>\n",
       "      <th>Embarked</th>\n",
       "      <th>Pclass</th>\n",
       "      <th>Fare</th>\n",
       "      <th>Sex</th>\n",
       "      <th>Age</th>\n",
       "      <th>Survived</th>\n",
       "    </tr>\n",
       "  </thead>\n",
       "  <tbody>\n",
       "    <tr>\n",
       "      <th>0</th>\n",
       "      <td>2</td>\n",
       "      <td>3</td>\n",
       "      <td>7.2500</td>\n",
       "      <td>0</td>\n",
       "      <td>22.0</td>\n",
       "      <td>0</td>\n",
       "    </tr>\n",
       "    <tr>\n",
       "      <th>1</th>\n",
       "      <td>0</td>\n",
       "      <td>1</td>\n",
       "      <td>71.2833</td>\n",
       "      <td>1</td>\n",
       "      <td>38.0</td>\n",
       "      <td>1</td>\n",
       "    </tr>\n",
       "    <tr>\n",
       "      <th>2</th>\n",
       "      <td>2</td>\n",
       "      <td>3</td>\n",
       "      <td>7.9250</td>\n",
       "      <td>1</td>\n",
       "      <td>26.0</td>\n",
       "      <td>1</td>\n",
       "    </tr>\n",
       "    <tr>\n",
       "      <th>3</th>\n",
       "      <td>2</td>\n",
       "      <td>1</td>\n",
       "      <td>53.1000</td>\n",
       "      <td>1</td>\n",
       "      <td>35.0</td>\n",
       "      <td>1</td>\n",
       "    </tr>\n",
       "    <tr>\n",
       "      <th>4</th>\n",
       "      <td>2</td>\n",
       "      <td>3</td>\n",
       "      <td>8.0500</td>\n",
       "      <td>0</td>\n",
       "      <td>35.0</td>\n",
       "      <td>0</td>\n",
       "    </tr>\n",
       "  </tbody>\n",
       "</table>\n",
       "</div>"
      ],
      "text/plain": [
       "   Embarked  Pclass     Fare  Sex   Age  Survived\n",
       "0         2       3   7.2500    0  22.0         0\n",
       "1         0       1  71.2833    1  38.0         1\n",
       "2         2       3   7.9250    1  26.0         1\n",
       "3         2       1  53.1000    1  35.0         1\n",
       "4         2       3   8.0500    0  35.0         0"
      ]
     },
     "execution_count": 7,
     "metadata": {},
     "output_type": "execute_result"
    }
   ],
   "source": [
    "dataset.head()"
   ]
  },
  {
   "cell_type": "markdown",
   "metadata": {},
   "source": [
    "Your mission is to explore the data set and extract some information to answer this open question:\n",
    "**“What sorts of passengers were more likely to survive?”**  \n",
    "\n",
    "**_Note:_ Your graphs should formatted so they are easily readable. It is expected that you provide a title and axis labels, as well as a legend when necessary.** "
   ]
  },
  {
   "cell_type": "markdown",
   "metadata": {},
   "source": [
    "## Part 1: General information \n",
    "Using Pandas tools, display the following pieces of information:"
   ]
  },
  {
   "cell_type": "markdown",
   "metadata": {},
   "source": [
    "### a) What is the number of passengers?"
   ]
  },
  {
   "cell_type": "code",
   "execution_count": 12,
   "metadata": {},
   "outputs": [
    {
     "name": "stdout",
     "output_type": "stream",
     "text": [
      "Number of passengers : 891\n"
     ]
    }
   ],
   "source": [
    "num= dataset.shape[0]\n",
    "print(\"Number of passengers :\", num)"
   ]
  },
  {
   "cell_type": "markdown",
   "metadata": {},
   "source": [
    "### b) What is the mean age of the passengers?"
   ]
  },
  {
   "cell_type": "code",
   "execution_count": 13,
   "metadata": {},
   "outputs": [
    {
     "name": "stdout",
     "output_type": "stream",
     "text": [
      "Mean age of passengers: 29.79\n"
     ]
    }
   ],
   "source": [
    "mean=dataset[\"Age\"].mean()\n",
    "print(\"Mean age of passengers: {:.2f}\".format(mean))"
   ]
  },
  {
   "cell_type": "markdown",
   "metadata": {},
   "source": [
    "### c) How many passengers are above 70 years old?"
   ]
  },
  {
   "cell_type": "code",
   "execution_count": 14,
   "metadata": {},
   "outputs": [
    {
     "name": "stdout",
     "output_type": "stream",
     "text": [
      "Count of passengers above age 70 : 8\n"
     ]
    }
   ],
   "source": [
    "count=dataset[dataset['Age']>70].shape[0]\n",
    "print(\"Count of passengers above age 70 :\",count)"
   ]
  },
  {
   "cell_type": "markdown",
   "metadata": {},
   "source": [
    "### d) What proportion of passengers are in each class? (1st, 2nd, 3rd)"
   ]
  },
  {
   "cell_type": "code",
   "execution_count": 15,
   "metadata": {},
   "outputs": [
    {
     "name": "stdout",
     "output_type": "stream",
     "text": [
      "Proportion of passengers in first class: 0.24\n",
      "Proportion of passengers in second class: 0.21\n",
      "Proportion of passengers in third class: 0.55\n"
     ]
    }
   ],
   "source": [
    "total_passengers = len(dataset)\n",
    "\n",
    "first_class_passengers = len(dataset[dataset['Pclass'] == 1])\n",
    "second_class_passengers = len(dataset[dataset['Pclass'] == 2])\n",
    "third_class_passengers = len(dataset[dataset['Pclass'] == 3])\n",
    "\n",
    "proportion_first_class = first_class_passengers / total_passengers\n",
    "proportion_second_class = second_class_passengers / total_passengers\n",
    "proportion_third_class = third_class_passengers / total_passengers\n",
    "\n",
    "print(\"Proportion of passengers in first class: {:.2f}\".format(proportion_first_class))\n",
    "print(\"Proportion of passengers in second class: {:.2f}\".format(proportion_second_class))\n",
    "print(\"Proportion of passengers in third class: {:.2f}\".format(proportion_third_class))"
   ]
  },
  {
   "cell_type": "markdown",
   "metadata": {},
   "source": [
    "## Part 2: Your first data exploration\n",
    "Using, Matplotlib, make plots that display the required information"
   ]
  },
  {
   "cell_type": "markdown",
   "metadata": {},
   "source": [
    "### a) Show the relationship between fare paid by the passengers and their age \n",
    "You suspect that in general, older passengers might have paid more for their tickets than the young passengers. To verify this, plot all the data points to see if there is a trend.  \n",
    "Additional instructions:\n",
    "- Which type of plot is the most appropriate for this? A normal (line) plot, or scatter plot? I let you try and decide. 😄\n",
    "- Don't forget to add a title and axis labels to your graph."
   ]
  },
  {
   "cell_type": "code",
   "execution_count": 16,
   "metadata": {},
   "outputs": [
    {
     "data": {
      "image/png": "[encoded data removed]",
      "text/plain": [
       "<Figure size 432x288 with 1 Axes>"
      ]
     },
     "metadata": {
      "needs_background": "light"
     },
     "output_type": "display_data"
    }
   ],
   "source": [
    "plt.scatter(dataset['Age'], dataset['Fare'],alpha=0.5)\n",
    "\n",
    "plt.title('Relationship between fare paid by passengers and  their')\n",
    "plt.xlabel('Age')\n",
    "plt.ylabel('Fare')\n",
    "\n",
    "plt.show()"
   ]
  },
  {
   "cell_type": "markdown",
   "metadata": {},
   "source": [
    "📝 TEXT ANSWER: In the text cell below, write down what you conclude from the graph."
   ]
  },
  {
   "cell_type": "markdown",
   "metadata": {},
   "source": [
    "majority of the passengers paid fare below 100 irrespective of the age, from the plot it is clear that age does not make much difference in pricing."
   ]
  },
  {
   "cell_type": "markdown",
   "metadata": {},
   "source": [
    "### b) Show the age distributions of the passengers depending on the port of embarkment\n",
    "Your friend told you that Queenstwon is full of retired people and you suspect that passengers who left from there are older that those who left from the two other ports. Find out by making a graph that allows you to compare the age distributions between the three ports.  \n",
    "Additional instructions:\n",
    "- Use a density plot.\n",
    "- Your figure should have three curves, one for each port: Cherbourg, Queenstown, Southampton.\n",
    "- Display the three curves on the same figure for easy comparison.\n",
    "- If you make your plot carefully, your legend should indicate the name of the port that corresponds to each curve.\n",
    "- Don't forget to add a title and axis labels to your graph."
   ]
  },
  {
   "cell_type": "code",
   "execution_count": 18,
   "metadata": {},
   "outputs": [
    {
     "data": {
      "image/png": "[encoded data removed]",
      "text/plain": [
       "<Figure size 432x288 with 1 Axes>"
      ]
     },
     "metadata": {
      "needs_background": "light"
     },
     "output_type": "display_data"
    }
   ],
   "source": [
    "import seaborn as sns\n",
    "ages_c = dataset.loc[dataset['Embarked'] == 0, 'Age']\n",
    "ages_q = dataset.loc[dataset['Embarked'] == 1, 'Age']\n",
    "ages_s = dataset.loc[dataset['Embarked'] == 2, 'Age']\n",
    "\n",
    "plt.hist(ages_c, density=True, alpha=0.3, label='Cherbourg')\n",
    "plt.hist(ages_q, density=True, alpha=0.5, label='Queenstown')\n",
    "plt.hist(ages_s, density=True, alpha=0.3, label='Southampton')\n",
    "\n",
    "# Set the title and axis labels\n",
    "sns.kdeplot(ages_c, label='Cherbourg')\n",
    "sns.kdeplot(ages_q, label='Queenstown')\n",
    "sns.kdeplot(ages_s, label='Southampton')\n",
    "\n",
    "# Set the title and axis labels\n",
    "plt.title('Age distributions of passengers depending on port of embarkation')\n",
    "plt.xlabel('Age')\n",
    "plt.ylabel('Density')\n",
    "\n",
    "plt.legend()\n",
    "# Show the plot\n",
    "plt.show()\n",
    "\n"
   ]
  },
  {
   "cell_type": "markdown",
   "metadata": {},
   "source": [
    "📝 TEXT ANSWER: In the text cell below, write down what you conclude from the graph."
   ]
  },
  {
   "cell_type": "markdown",
   "metadata": {},
   "source": [
    "from the plot we can conclude that from queenstow more young passengers between age 20 to 40 were boarded than old people  "
   ]
  },
  {
   "cell_type": "markdown",
   "metadata": {},
   "source": [
    "## Part 3:  Data Exploration related with survival\n",
    "Now, let's perform analyses that will help you get intutions about the factors that might have influenced survival."
   ]
  },
  {
   "cell_type": "markdown",
   "metadata": {},
   "source": [
    "### a) How is age linked to survival?\n",
    "You want to know if the age of a passenger gives you any information about their probability of surviving. Make a plot that helps you find this out."
   ]
  },
  {
   "cell_type": "code",
   "execution_count": 25,
   "metadata": {},
   "outputs": [
    {
     "data": {
      "image/png": "[encoded data removed]",
      "text/plain": [
       "<Figure size 432x288 with 1 Axes>"
      ]
     },
     "metadata": {
      "needs_background": "light"
     },
     "output_type": "display_data"
    }
   ],
   "source": [
    "bins = [0, 10, 20, 30, 40, 50, 60, 70, 80, 90, 100]\n",
    "labels = ['0-10', '11-20', '21-30', '31-40', '41-50', '51-60', '61-70', '71-80', '81-90', '91-100']\n",
    "dataset['AgeGroup'] = pd.cut(dataset['Age'], bins=bins, labels=labels)\n",
    "\n",
    "survival_rate = dataset.groupby('AgeGroup')['Survived'].mean()\n",
    "\n",
    "plt.bar(survival_rate.index,survival_rate.values)\n",
    "plt.xlabel('Age Group')\n",
    "plt.ylabel('Survival Rate')\n",
    "plt.title('Survival Rate by Age Group')\n",
    "plt.show()"
   ]
  },
  {
   "cell_type": "markdown",
   "metadata": {},
   "source": [
    "📝 TEXT ANSWER: In the text cell below, write down what you conclude from your graph."
   ]
  },
  {
   "cell_type": "markdown",
   "metadata": {},
   "source": [
    "The bar plot analyzing the survival rate by age group in the Titanic dataset reveals that childrer 0 to 10 years old had a higher chances of surviving the disaster, while elderly passengers above 70 years old had a lower chance of survival. \n",
    "\n",
    "Passengers in their 20s had a comparatively lower survival rate, and there was a declining trend in survival rate with increasing age beyond 30 years. \n",
    "\n",
    "Age is a significant factor in determining survival chances, with children having better survival rates compared to other age groups, while the elderly were at a disadvantage."
   ]
  },
  {
   "cell_type": "markdown",
   "metadata": {},
   "source": [
    "### b) Were men or women more likely to die?  \n",
    "Find an answer to this question in any way you like."
   ]
  },
  {
   "cell_type": "code",
   "execution_count": 8,
   "metadata": {},
   "outputs": [
    {
     "data": {
      "image/png": "[encoded data removed]",
      "text/plain": [
       "<Figure size 432x288 with 1 Axes>"
      ]
     },
     "metadata": {
      "needs_background": "light"
     },
     "output_type": "display_data"
    }
   ],
   "source": [
    "male = dataset[dataset['Sex'] == 0]\n",
    "female = dataset[dataset['Sex'] == 1]\n",
    "\n",
    "\n",
    "male_survival_rate = male['Survived'].mean()\n",
    "female_survival_rate = female['Survived'].mean()\n",
    "\n",
    "plt.bar('Male', male_survival_rate)\n",
    "plt.bar('Female', female_survival_rate)\n",
    "plt.xlabel('Gender')\n",
    "plt.ylabel('Survival Rate')\n",
    "plt.title('Survival Rate')\n",
    "plt.show()"
   ]
  },
  {
   "cell_type": "markdown",
   "metadata": {},
   "source": [
    "📝 TEXT ANSWER: In the text cell below, interpret your plot or your statistics and answer the question with the information you displayed."
   ]
  },
  {
   "cell_type": "code",
   "execution_count": null,
   "metadata": {},
   "outputs": [],
   "source": [
    "The bar plots reveal that men are more likely to die in the disaster than women."
   ]
  },
  {
   "cell_type": "markdown",
   "metadata": {},
   "source": [
    "## Interpretation\n",
    "If you saw the movie _Titanic_, you probably remember that when they board the lifeboats, they say \"Children and women first!\". Does the data seem to confirm that they prioritized the boarding this way?  \n",
    "📝 TEXT ANSWER: Write your answer in the text cell below"
   ]
  },
  {
   "cell_type": "code",
   "execution_count": null,
   "metadata": {},
   "outputs": [],
   "source": [
    "Yes, the titanic data supports the historical accounts of the \"Women and children first\" policy,\n",
    "as women had a higher survival rate compared to men, indicating that they were likely given priority in boarding \n",
    "the lifeboats during the evacuation. Resulting in a higher proportion of female passengers surviving the Titanic sinking."
   ]
  }
 ],
 "metadata": {
  "kernelspec": {
   "display_name": "Python 3 (ipykernel)",
   "language": "python",
   "name": "python3"
  },
  "language_info": {
   "codemirror_mode": {
    "name": "ipython",
    "version": 3
   },
   "file_extension": ".py",
   "mimetype": "text/x-python",
   "name": "python",
   "nbconvert_exporter": "python",
   "pygments_lexer": "ipython3",
   "version": "3.10.6"
  }
 },
 "nbformat": 4,
 "nbformat_minor": 4
}
